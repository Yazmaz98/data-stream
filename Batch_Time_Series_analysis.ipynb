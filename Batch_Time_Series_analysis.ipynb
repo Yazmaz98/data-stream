{
  "nbformat": 4,
  "nbformat_minor": 0,
  "metadata": {
    "colab": {
      "name": "Batch_Time_Series_analysis.ipynb",
      "provenance": [],
      "collapsed_sections": [],
      "authorship_tag": "ABX9TyPlPSm1WCBu9R9NDPB+KUJs",
      "include_colab_link": true
    },
    "kernelspec": {
      "name": "python3",
      "display_name": "Python 3"
    },
    "language_info": {
      "name": "python"
    }
  },
  "cells": [
    {
      "cell_type": "markdown",
      "metadata": {
        "id": "view-in-github",
        "colab_type": "text"
      },
      "source": [
        "<a href=\"https://colab.research.google.com/github/Yazmaz98/data-stream/blob/master/Batch_Time_Series_analysis.ipynb\" target=\"_parent\"><img src=\"https://colab.research.google.com/assets/colab-badge.svg\" alt=\"Open In Colab\"/></a>"
      ]
    },
    {
      "cell_type": "code",
      "source": [
        "import numpy as np\n",
        "\n",
        "from statsmodels.tsa.arima_model import ARIMA\n",
        "from tqdm import tqdm"
      ],
      "metadata": {
        "id": "T0s3QJjEUmal",
        "colab": {
          "base_uri": "https://localhost:8080/"
        },
        "outputId": "3b04edf1-cb5e-4c2f-a389-a9cb0f295395"
      },
      "execution_count": 2,
      "outputs": [
        {
          "output_type": "stream",
          "name": "stderr",
          "text": [
            "/usr/local/lib/python3.7/dist-packages/statsmodels/tools/_testing.py:19: FutureWarning: pandas.util.testing is deprecated. Use the functions in the public API at pandas.testing instead.\n",
            "  import pandas.util.testing as tm\n"
          ]
        }
      ]
    },
    {
      "cell_type": "code",
      "execution_count": 3,
      "metadata": {
        "id": "CBXtTQZoUU0L"
      },
      "outputs": [],
      "source": [
        "import numpy as np\n",
        "\n",
        "\n",
        "# create dataset\n",
        "def create_dataset(X : np.array, n_samples : int, mode : str='direct'):\n",
        "    \"\"\"\n",
        "    Function takes time-series X as an input and provides time-series Xo and \n",
        "    the test data yo for output.\n",
        "    ----------------------------------\n",
        "    n_samples : int, number of samples\n",
        "    mode : string,\n",
        "    - 'direct': X0 are the generated batches, yo is x[t+1]\n",
        "    - 'log': X0 - outputs the log-returns of the data, yo is the next log-return.\n",
        "    ----------------------------------\n",
        "    X0: np.array, shape: (len(X) - n_samples - 1, n_samples)\n",
        "    y0: np.array, shape: len(X) - n_samples - 1\n",
        "    \"\"\"\n",
        "    if mode == 'direct':\n",
        "        X0 = np.zeros((len(X) - n_samples - 1, n_samples))\n",
        "        y0 = np.zeros(len(X) - n_samples - 1)\n",
        "        for i in range(len(X) - n_samples - 1):\n",
        "            X0[i] = X[i : i + n_samples]\n",
        "            y0[i] = X[i + n_samples + 1]\n",
        "    elif mode == 'log':\n",
        "        X0 = np.zeros((len(X) - n_samples - 2, n_samples))\n",
        "        y0 = np.zeros(len(X) - n_samples - 2)\n",
        "        X_return = np.log(X[1:] / X[:-1])\n",
        "        for i in range(len(X) - n_samples - 2):\n",
        "            X0[i] = X_return[i:i + n_samples]\n",
        "            y0[i] = X_return[i + n_samples + 1]\n",
        "    else:\n",
        "        raise(NotImplementedError(\"Unknown method\"))\n",
        "\n",
        "    return X0, y0"
      ]
    },
    {
      "cell_type": "code",
      "source": [
        "# generate test data\n",
        "n = 100\n",
        "X = 1 + np.random.rand(n)\n",
        "X_return = np.log(X[1:] / X[:-1])\n",
        "X_return[0: 50]\n",
        "\n",
        "# Xo, yo = create_dataset(X, 50, mode='lq')\n",
        "# for x, y in zip(xo, yo):\n",
        "#   print(x, y)\n",
        "#   break"
      ],
      "metadata": {
        "colab": {
          "base_uri": "https://localhost:8080/"
        },
        "id": "C0nLlutAYC02",
        "outputId": "c4518819-b010-425b-a5ac-153e26c3fea9"
      },
      "execution_count": 4,
      "outputs": [
        {
          "output_type": "execute_result",
          "data": {
            "text/plain": [
              "array([ 0.47387691, -0.09230929, -0.44070218, -0.02194789,  0.57264823,\n",
              "       -0.41045353,  0.24620112, -0.09651745,  0.26585863, -0.03730824,\n",
              "       -0.44810634,  0.07284804,  0.11949079, -0.36532343,  0.03112855,\n",
              "        0.12612678,  0.18319591,  0.04235503,  0.20271476,  0.02156988,\n",
              "       -0.44519878,  0.24399109, -0.14448438, -0.16750146,  0.33285557,\n",
              "       -0.28919009, -0.14295848,  0.60004176, -0.16652167, -0.42873055,\n",
              "        0.17043171,  0.11485436,  0.08963303, -0.10327665,  0.07900806,\n",
              "       -0.30575239,  0.53473429,  0.00085213, -0.30897029,  0.26870502,\n",
              "       -0.52300607,  0.49961655, -0.28715534, -0.06679381,  0.40241681,\n",
              "       -0.06734385, -0.02895494, -0.0595015 ,  0.23239301, -0.08279692])"
            ]
          },
          "metadata": {},
          "execution_count": 4
        }
      ]
    },
    {
      "cell_type": "code",
      "source": [
        "!pip install pmdarima"
      ],
      "metadata": {
        "colab": {
          "base_uri": "https://localhost:8080/",
          "height": 582
        },
        "id": "808H1B3oLRBB",
        "outputId": "a49b6bbf-fab2-4463-b386-4788d7cc30ab"
      },
      "execution_count": 10,
      "outputs": [
        {
          "output_type": "stream",
          "name": "stdout",
          "text": [
            "Collecting pmdarima\n",
            "  Downloading pmdarima-1.8.5-cp37-cp37m-manylinux_2_17_x86_64.manylinux2014_x86_64.manylinux_2_24_x86_64.whl (1.4 MB)\n",
            "\u001b[K     |████████████████████████████████| 1.4 MB 4.2 MB/s \n",
            "\u001b[?25hRequirement already satisfied: setuptools!=50.0.0,>=38.6.0 in /usr/local/lib/python3.7/dist-packages (from pmdarima) (57.4.0)\n",
            "Collecting statsmodels!=0.12.0,>=0.11\n",
            "  Downloading statsmodels-0.13.2-cp37-cp37m-manylinux_2_17_x86_64.manylinux2014_x86_64.whl (9.8 MB)\n",
            "\u001b[K     |████████████████████████████████| 9.8 MB 50.5 MB/s \n",
            "\u001b[?25hRequirement already satisfied: joblib>=0.11 in /usr/local/lib/python3.7/dist-packages (from pmdarima) (1.1.0)\n",
            "Requirement already satisfied: scipy>=1.3.2 in /usr/local/lib/python3.7/dist-packages (from pmdarima) (1.4.1)\n",
            "Requirement already satisfied: urllib3 in /usr/local/lib/python3.7/dist-packages (from pmdarima) (1.24.3)\n",
            "Requirement already satisfied: numpy>=1.19.3 in /usr/local/lib/python3.7/dist-packages (from pmdarima) (1.21.5)\n",
            "Requirement already satisfied: scikit-learn>=0.22 in /usr/local/lib/python3.7/dist-packages (from pmdarima) (1.0.2)\n",
            "Requirement already satisfied: Cython!=0.29.18,>=0.29 in /usr/local/lib/python3.7/dist-packages (from pmdarima) (0.29.28)\n",
            "Requirement already satisfied: pandas>=0.19 in /usr/local/lib/python3.7/dist-packages (from pmdarima) (1.3.5)\n",
            "Requirement already satisfied: pytz>=2017.3 in /usr/local/lib/python3.7/dist-packages (from pandas>=0.19->pmdarima) (2018.9)\n",
            "Requirement already satisfied: python-dateutil>=2.7.3 in /usr/local/lib/python3.7/dist-packages (from pandas>=0.19->pmdarima) (2.8.2)\n",
            "Requirement already satisfied: six>=1.5 in /usr/local/lib/python3.7/dist-packages (from python-dateutil>=2.7.3->pandas>=0.19->pmdarima) (1.15.0)\n",
            "Requirement already satisfied: threadpoolctl>=2.0.0 in /usr/local/lib/python3.7/dist-packages (from scikit-learn>=0.22->pmdarima) (3.1.0)\n",
            "Requirement already satisfied: patsy>=0.5.2 in /usr/local/lib/python3.7/dist-packages (from statsmodels!=0.12.0,>=0.11->pmdarima) (0.5.2)\n",
            "Requirement already satisfied: packaging>=21.3 in /usr/local/lib/python3.7/dist-packages (from statsmodels!=0.12.0,>=0.11->pmdarima) (21.3)\n",
            "Requirement already satisfied: pyparsing!=3.0.5,>=2.0.2 in /usr/local/lib/python3.7/dist-packages (from packaging>=21.3->statsmodels!=0.12.0,>=0.11->pmdarima) (3.0.7)\n",
            "Installing collected packages: statsmodels, pmdarima\n",
            "  Attempting uninstall: statsmodels\n",
            "    Found existing installation: statsmodels 0.10.2\n",
            "    Uninstalling statsmodels-0.10.2:\n",
            "      Successfully uninstalled statsmodels-0.10.2\n",
            "Successfully installed pmdarima-1.8.5 statsmodels-0.13.2\n"
          ]
        },
        {
          "output_type": "display_data",
          "data": {
            "application/vnd.colab-display-data+json": {
              "pip_warning": {
                "packages": [
                  "statsmodels"
                ]
              }
            }
          },
          "metadata": {}
        }
      ]
    },
    {
      "cell_type": "code",
      "source": [
        "import numpy as np\n",
        "\n",
        "from pmdarima.arima.utils import ndiffs\n",
        "from statsmodels.tsa.arima_model import ARIMA\n",
        "from tqdm import tqdm\n",
        "\n",
        "class ARIMA_model():\n",
        "    def __init__(self, p=None, q=None, r=None):\n",
        "        \"\"\"\n",
        "        p, q, r: params of ARIMA model,\n",
        "        see https://www.statsmodels.org/devel/generated/statsmodels.tsa.arima.model.ARIMA.html\n",
        "        \"\"\"\n",
        "        self.p = p\n",
        "        self.q = q\n",
        "        self.r = r\n",
        "\n",
        "    def get_parameters(X):\n",
        "        ## Adf Test\n",
        "        ndiffs(X, test='adf')  # 2\n",
        "\n",
        "        # KPSS test\n",
        "        ndiffs(X, test='kpss')  # 0\n",
        "\n",
        "        # PP test:\n",
        "        ndiffs(X, test='pp')  # 2\n",
        "\n",
        "        return p, q, r\n",
        "    \n",
        "    def fit_predict(self, X, y, get_params=True):\n",
        "        if get_params:\n",
        "          self.p, self.q, self.r = get_parameters(X)\n",
        "          \n",
        "        y_pred = np.zeros_like(y)\n",
        "        for i in tqdm(range(len(X))):\n",
        "            ts = X[i]\n",
        "            model = ARIMA(ts, order=(self.p, self.q, self.r))\n",
        "            model_fit = model.fit()\n",
        "            y_pred[i] = model_fit.forecast()[0][0]\n",
        "        return y_pred\n",
        "\n",
        "from sklearn.metrics import mean_squared_error as MSE\n",
        "\n",
        "n_samples = 70\n",
        "p, q, r = 5, 0, 1\n",
        "\n",
        "model = ARIMA_model(p, q, r)\n",
        "X_train, y_train = create_dataset(X, n_samples)\n",
        "y_pred = model.fit_predict(X_train, y_train)\n",
        "print()\n",
        "print(\"MSE: %.5f\" %MSE(y_train, y_pred))"
      ],
      "metadata": {
        "colab": {
          "base_uri": "https://localhost:8080/",
          "height": 368
        },
        "id": "U2SU8W_SVwI_",
        "outputId": "41760424-5303-41db-ead8-de802b9c3ada"
      },
      "execution_count": 9,
      "outputs": [
        {
          "output_type": "error",
          "ename": "ModuleNotFoundError",
          "evalue": "ignored",
          "traceback": [
            "\u001b[0;31m---------------------------------------------------------------------------\u001b[0m",
            "\u001b[0;31mModuleNotFoundError\u001b[0m                       Traceback (most recent call last)",
            "\u001b[0;32m<ipython-input-9-5af939151964>\u001b[0m in \u001b[0;36m<module>\u001b[0;34m()\u001b[0m\n\u001b[1;32m      1\u001b[0m \u001b[0;32mimport\u001b[0m \u001b[0mnumpy\u001b[0m \u001b[0;32mas\u001b[0m \u001b[0mnp\u001b[0m\u001b[0;34m\u001b[0m\u001b[0;34m\u001b[0m\u001b[0m\n\u001b[1;32m      2\u001b[0m \u001b[0;34m\u001b[0m\u001b[0m\n\u001b[0;32m----> 3\u001b[0;31m \u001b[0;32mfrom\u001b[0m \u001b[0mpmdarima\u001b[0m\u001b[0;34m.\u001b[0m\u001b[0marima\u001b[0m\u001b[0;34m.\u001b[0m\u001b[0mutils\u001b[0m \u001b[0;32mimport\u001b[0m \u001b[0mndiffs\u001b[0m\u001b[0;34m\u001b[0m\u001b[0;34m\u001b[0m\u001b[0m\n\u001b[0m\u001b[1;32m      4\u001b[0m \u001b[0;32mfrom\u001b[0m \u001b[0mstatsmodels\u001b[0m\u001b[0;34m.\u001b[0m\u001b[0mtsa\u001b[0m\u001b[0;34m.\u001b[0m\u001b[0marima_model\u001b[0m \u001b[0;32mimport\u001b[0m \u001b[0mARIMA\u001b[0m\u001b[0;34m\u001b[0m\u001b[0;34m\u001b[0m\u001b[0m\n\u001b[1;32m      5\u001b[0m \u001b[0;32mfrom\u001b[0m \u001b[0mtqdm\u001b[0m \u001b[0;32mimport\u001b[0m \u001b[0mtqdm\u001b[0m\u001b[0;34m\u001b[0m\u001b[0;34m\u001b[0m\u001b[0m\n",
            "\u001b[0;31mModuleNotFoundError\u001b[0m: No module named 'pmdarima'",
            "",
            "\u001b[0;31m---------------------------------------------------------------------------\u001b[0;32m\nNOTE: If your import is failing due to a missing package, you can\nmanually install dependencies using either !pip or !apt.\n\nTo view examples of installing some common dependencies, click the\n\"Open Examples\" button below.\n\u001b[0;31m---------------------------------------------------------------------------\u001b[0m\n"
          ],
          "errorDetails": {
            "actions": [
              {
                "action": "open_url",
                "actionText": "Open Examples",
                "url": "/notebooks/snippets/importing_libraries.ipynb"
              }
            ]
          }
        }
      ]
    },
    {
      "cell_type": "code",
      "source": [
        "4, 0, 1: 0.12670\n",
        "5, 0, 1: 0.08793"
      ],
      "metadata": {
        "id": "V-_XM8tbusuH"
      },
      "execution_count": null,
      "outputs": []
    },
    {
      "cell_type": "code",
      "source": [
        "## Adf Test\n",
        "ndiffs(X, test='adf')  # 2\n",
        "\n",
        "# KPSS test\n",
        "ndiffs(X, test='kpss')  # 0\n",
        "\n",
        "# PP test:\n",
        "ndiffs(X, test='pp')  # 2"
      ],
      "metadata": {
        "colab": {
          "base_uri": "https://localhost:8080/",
          "height": 232
        },
        "id": "wqzqQfPiLH-G",
        "outputId": "71744349-c3d5-4bf5-b784-5a453d1444ed"
      },
      "execution_count": 7,
      "outputs": [
        {
          "output_type": "error",
          "ename": "NameError",
          "evalue": "ignored",
          "traceback": [
            "\u001b[0;31m---------------------------------------------------------------------------\u001b[0m",
            "\u001b[0;31mNameError\u001b[0m                                 Traceback (most recent call last)",
            "\u001b[0;32m<ipython-input-7-5f386ee96424>\u001b[0m in \u001b[0;36m<module>\u001b[0;34m()\u001b[0m\n\u001b[1;32m      1\u001b[0m \u001b[0;31m## Adf Test\u001b[0m\u001b[0;34m\u001b[0m\u001b[0;34m\u001b[0m\u001b[0;34m\u001b[0m\u001b[0m\n\u001b[0;32m----> 2\u001b[0;31m \u001b[0mndiffs\u001b[0m\u001b[0;34m(\u001b[0m\u001b[0mX\u001b[0m\u001b[0;34m,\u001b[0m \u001b[0mtest\u001b[0m\u001b[0;34m=\u001b[0m\u001b[0;34m'adf'\u001b[0m\u001b[0;34m)\u001b[0m  \u001b[0;31m# 2\u001b[0m\u001b[0;34m\u001b[0m\u001b[0;34m\u001b[0m\u001b[0m\n\u001b[0m\u001b[1;32m      3\u001b[0m \u001b[0;34m\u001b[0m\u001b[0m\n\u001b[1;32m      4\u001b[0m \u001b[0;31m# KPSS test\u001b[0m\u001b[0;34m\u001b[0m\u001b[0;34m\u001b[0m\u001b[0;34m\u001b[0m\u001b[0m\n\u001b[1;32m      5\u001b[0m \u001b[0mndiffs\u001b[0m\u001b[0;34m(\u001b[0m\u001b[0mX\u001b[0m\u001b[0;34m,\u001b[0m \u001b[0mtest\u001b[0m\u001b[0;34m=\u001b[0m\u001b[0;34m'kpss'\u001b[0m\u001b[0;34m)\u001b[0m  \u001b[0;31m# 0\u001b[0m\u001b[0;34m\u001b[0m\u001b[0;34m\u001b[0m\u001b[0m\n",
            "\u001b[0;31mNameError\u001b[0m: name 'ndiffs' is not defined"
          ]
        }
      ]
    },
    {
      "cell_type": "code",
      "source": [
        "y_pred"
      ],
      "metadata": {
        "colab": {
          "base_uri": "https://localhost:8080/"
        },
        "id": "bpw0Y_ueWycm",
        "outputId": "27461b45-e10b-4927-c30f-cb14657aa968"
      },
      "execution_count": 112,
      "outputs": [
        {
          "output_type": "execute_result",
          "data": {
            "text/plain": [
              "array([1.46108826, 1.29886672, 1.54681982, 1.43419192, 1.54998292,\n",
              "       1.39449436, 1.61371162, 1.30226069, 1.65769368, 1.46848136,\n",
              "       1.50378828, 1.55831189, 1.50489814, 1.42443501, 1.43845222,\n",
              "       1.61059161, 1.50409444, 1.34187683, 1.45380301, 1.35737642,\n",
              "       1.59438204, 1.39764124, 1.56674718, 1.360295  , 1.40259733,\n",
              "       1.43905342, 1.45829277, 1.31574274, 1.34695011])"
            ]
          },
          "metadata": {},
          "execution_count": 112
        }
      ]
    },
    {
      "cell_type": "code",
      "source": [
        "y_train"
      ],
      "metadata": {
        "colab": {
          "base_uri": "https://localhost:8080/"
        },
        "id": "YbUd1PnyqsWL",
        "outputId": "54a4fb7a-f607-41bb-ef84-fa23af0ee205"
      },
      "execution_count": 113,
      "outputs": [
        {
          "output_type": "execute_result",
          "data": {
            "text/plain": [
              "array([1.1809162 , 1.6521392 , 1.14848864, 1.68111783, 1.00594754,\n",
              "       1.99967502, 1.7134624 , 1.05229522, 1.20694885, 1.25287978,\n",
              "       1.05938383, 1.0039687 , 1.34377103, 1.87261427, 1.58202245,\n",
              "       1.63972114, 1.24581597, 1.98284274, 1.15003742, 1.25611585,\n",
              "       1.8530457 , 1.63688331, 1.99829534, 1.91195651, 1.33632171,\n",
              "       1.01809234, 1.82768771, 1.17213212, 1.42742301])"
            ]
          },
          "metadata": {},
          "execution_count": 113
        }
      ]
    },
    {
      "cell_type": "code",
      "source": [
        ""
      ],
      "metadata": {
        "id": "OLGCaZe2quHa"
      },
      "execution_count": null,
      "outputs": []
    }
  ]
}